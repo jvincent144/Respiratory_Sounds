{
 "cells": [
  {
   "cell_type": "code",
   "execution_count": 1,
   "metadata": {},
   "outputs": [],
   "source": [
    "import os"
   ]
  },
  {
   "cell_type": "code",
   "execution_count": 2,
   "metadata": {},
   "outputs": [],
   "source": [
    "# import json\n",
    "import pandas as pd"
   ]
  },
  {
   "cell_type": "code",
   "execution_count": 3,
   "metadata": {},
   "outputs": [],
   "source": [
    "import numpy as np\n",
    "import tensorflow as tf\n",
    "from tensorflow.data import TFRecordDataset"
   ]
  },
  {
   "cell_type": "code",
   "execution_count": 4,
   "metadata": {},
   "outputs": [],
   "source": [
    "import wav"
   ]
  },
  {
   "cell_type": "code",
   "execution_count": 5,
   "metadata": {},
   "outputs": [],
   "source": [
    "import matplotlib.pyplot as plt"
   ]
  },
  {
   "cell_type": "code",
   "execution_count": 6,
   "metadata": {},
   "outputs": [
    {
     "data": {
      "text/plain": [
       "'1.14.0'"
      ]
     },
     "execution_count": 6,
     "metadata": {},
     "output_type": "execute_result"
    }
   ],
   "source": [
    "tf.__version__"
   ]
  },
  {
   "cell_type": "code",
   "execution_count": 7,
   "metadata": {},
   "outputs": [],
   "source": [
    "# fpath = \"/Users/jvincent/Documents/SCU/deepLearning/Respiratory_Sound_Database/Respiratory_Sound_Database/info.json\"\n",
    "# with open(fpath, 'r') as fp:\n",
    "#     fnames, clbls = json.load(fp)"
   ]
  },
  {
   "cell_type": "code",
   "execution_count": 8,
   "metadata": {},
   "outputs": [],
   "source": [
    "# print(type(fnames[0]))\n",
    "# print(type(clbls[0]))"
   ]
  },
  {
   "cell_type": "code",
   "execution_count": 9,
   "metadata": {},
   "outputs": [],
   "source": [
    "# for i in range(len(clbls)):\n",
    "#     clbls[i] = int(clbls[i])"
   ]
  },
  {
   "cell_type": "code",
   "execution_count": 10,
   "metadata": {},
   "outputs": [],
   "source": [
    "path = \"/Users/jvincent/Documents/SCU/deepLearning/Respiratory_Sound_Database/Respiratory_Sound_Database/patient_diagnosis.csv\"\n",
    "df = pd.read_csv(path, header = None)"
   ]
  },
  {
   "cell_type": "code",
   "execution_count": 11,
   "metadata": {},
   "outputs": [],
   "source": [
    "# dictionary of disease classes\n",
    "classes = {\"Healthy\" : 0, \"Asthma\" : 1, \"COPD\" : 2, \"LRTI\" : 3, \"URTI\" : 4, \"Bronchiectasis\" : 5, \"Bronchiolitis\" : 6, \"Pneumonia\" : 7}"
   ]
  },
  {
   "cell_type": "code",
   "execution_count": 12,
   "metadata": {},
   "outputs": [
    {
     "name": "stdout",
     "output_type": "stream",
     "text": [
      "[4. 0. 1. 2. 4. 2. 2. 3. 2. 2. 5. 2. 2. 2. 3. 5. 2. 2. 4. 2. 0. 7. 0. 2.\n",
      " 0. 0. 0. 2. 4. 2. 4. 2. 2. 2. 7. 0. 4. 2. 2. 7. 2. 2. 0. 0. 2. 2. 2. 4.\n",
      " 6. 4. 2. 0. 0. 2. 2. 2. 2. 2. 0. 2. 6. 2. 2. 4. 4. 2. 6. 5. 5. 2. 0. 2.\n",
      " 6. 2. 2. 2. 2. 2. 0. 2. 2. 0. 0. 0. 2. 2. 0. 4. 2. 4. 7. 2. 2. 0. 2. 5.\n",
      " 4. 2. 2. 2. 5. 0. 2. 2. 2. 6. 2. 0. 0. 4. 2. 2. 2. 0. 5. 6. 0. 2. 7. 2.\n",
      " 2. 2. 2. 0. 0. 7.]\n"
     ]
    }
   ],
   "source": [
    "# hash table of patient diagnoses\n",
    "diagnoses = np.zeros(np.max(df.iloc[:][0]) - np.min(df.iloc[:][0]) + 1)\n",
    "for i in range(len(df.iloc[:][1])):\n",
    "    diagnoses[i] = classes[df.iloc[i][1]]\n",
    "print(diagnoses)"
   ]
  },
  {
   "cell_type": "code",
   "execution_count": 13,
   "metadata": {},
   "outputs": [],
   "source": [
    "root = \"/Users/jvincent/Documents/SCU/deepLearning/Respiratory_Sound_Database/Respiratory_Sound_Database/audio/\"\n",
    "os.chdir(root)"
   ]
  },
  {
   "cell_type": "code",
   "execution_count": 14,
   "metadata": {},
   "outputs": [],
   "source": [
    "dirs = os.listdir(os.getcwd())"
   ]
  },
  {
   "cell_type": "code",
   "execution_count": 15,
   "metadata": {},
   "outputs": [],
   "source": [
    "####\n",
    "# Gather filenames\n",
    "\n",
    "fnames = [] # list of filenames\n",
    "clabels = []\n",
    "\n",
    "for sub in dirs:\n",
    "    subdir = os.path.join(root, sub)\n",
    "    files = os.listdir(subdir)\n",
    "    for file in files:\n",
    "        audio = wav.read_wav(os.path.join(subdir, file))\n",
    "        if(441000 <= len(audio)): # If there are at least ten seconds of audio\n",
    "            fnames.append(os.path.join(subdir, file))\n",
    "            clabels.append(int(diagnoses[int(sub)-101]))"
   ]
  },
  {
   "cell_type": "code",
   "execution_count": 16,
   "metadata": {},
   "outputs": [
    {
     "name": "stdout",
     "output_type": "stream",
     "text": [
      "824\n",
      "824\n"
     ]
    }
   ],
   "source": [
    "print(len(fnames))\n",
    "print(len(clabels))"
   ]
  },
  {
   "cell_type": "code",
   "execution_count": 17,
   "metadata": {},
   "outputs": [],
   "source": [
    "root = \"/Users/jvincent/Documents/SCU/deepLearning/Respiratory_Sound_Database/Respiratory_Sound_Database/audio_tfrd/\"\n",
    "os.chdir(root) # Not that I really need to change back, but..."
   ]
  },
  {
   "cell_type": "code",
   "execution_count": 18,
   "metadata": {},
   "outputs": [],
   "source": [
    "#### Create tf data record files"
   ]
  },
  {
   "cell_type": "code",
   "execution_count": 19,
   "metadata": {},
   "outputs": [],
   "source": [
    "# convert to one of the three tensorflow data types : tf.train.ByteList, tf.train.FloatList, tf.train.Int64List\n",
    "# Source : https://www.tensorflow.org/tutorials/load_data/tfrecord\n",
    "\n",
    "def _bytes_feature(value):\n",
    "  \"\"\"Returns a bytes_list from a string / byte.\"\"\"\n",
    "  if isinstance(value, type(tf.constant(0))):\n",
    "    value = value.numpy() # BytesList won't unpack a string from an EagerTensor.\n",
    "  return tf.train.Feature(bytes_list=tf.train.BytesList(value=[value]))\n",
    "\n",
    "def _float_feature(value):\n",
    "  \"\"\"Returns a float_list from a float / double.\"\"\"\n",
    "  return tf.train.Feature(float_list=tf.train.FloatList(value=[value]))\n",
    "\n",
    "def _int64_feature(value):\n",
    "  \"\"\"Returns an int64_list from a bool / enum / int / uint.\"\"\"\n",
    "  return tf.train.Feature(int64_list=tf.train.Int64List(value=[value]))"
   ]
  },
  {
   "cell_type": "code",
   "execution_count": 20,
   "metadata": {},
   "outputs": [],
   "source": [
    "# Create tf.Example\n",
    "def to_tf_example(bytestring, lbl):\n",
    "    \n",
    "    feature = {\"audio_raw\" : _bytes_feature(bytestring),\n",
    "                \"label\" : _int64_feature(lbl)}\n",
    "    \n",
    "    tf_example = tf.train.Example(features = tf.train.Features(feature = feature))\n",
    "    return tf_example"
   ]
  },
  {
   "cell_type": "code",
   "execution_count": 21,
   "metadata": {},
   "outputs": [],
   "source": [
    "# function to create a TFRecordDataset\n",
    "# Each dataset, such as the train dataset is stored in a file as a binary representation\n",
    "# After further review of the documentation, I found that I can use multiple files to create the dataset\n",
    "# I would need to pass a list of files into the TFRecordDataset() function, but that is easy\n",
    "def createTFRD(target_file, fnames, lbls):\n",
    "    # fnames & lbls must be the same length, i.e. one label for each file\n",
    "    \n",
    "    # (1) open TFRD writer, which writes to the specified file\n",
    "    writer = tf.python_io.TFRecordWriter(target_file)\n",
    "    \n",
    "    # (2) iteratively read files and write to the target file\n",
    "    for i in range(len(fnames)):\n",
    "         # read a wavfile and return numpy array\n",
    "        audio = wav.read_wav(fnames[i])\n",
    "        # Should I cut the audio to a uniform size? Yes.\n",
    "        # Cut to first 10 seconds b/c each recording is at least 10 seconds long\n",
    "        # 44100 Hz = f_sample\n",
    "        # 44100 Hz * 10 s = 441000 points\n",
    "        f_sample = 44100\n",
    "        # five second sample\n",
    "        start = 2\n",
    "        end = 3\n",
    "        audio = audio[start*f_sample:end*f_sample] # I love slicing!\n",
    "        audio_raw = audio.tobytes() # Convert to bytestring\n",
    "        # Load the corresponding label\n",
    "        lbl = lbls[i]\n",
    "        tf_example = to_tf_example(audio_raw, lbl) # Convert to tf.Example\n",
    "        writer.write(tf_example.SerializeToString()) # SerializeToString() converts to a bytestring    \n",
    "    writer.close()"
   ]
  },
  {
   "cell_type": "code",
   "execution_count": 22,
   "metadata": {},
   "outputs": [],
   "source": [
    "# (4) split filepaths & labels into train, val, and test\n",
    "def split(filepaths, lbls, val_prct, test_prct):\n",
    "    # Note : filepaths must have the same length as lbls\n",
    "    val_names = filepaths[:int(val_prct*len(filepaths))] # first, get the validation data\n",
    "    test_names = filepaths[int(val_prct*len(filepaths)):int((test_prct*len(filepaths)))+int((val_prct*len(filepaths)))] # then, the test data\n",
    "    train_names = filepaths[int(test_prct*len(filepaths))+int(val_prct*len(filepaths)):] # the rest is training data\n",
    "    val_lbls = lbls[:int(val_prct*len(filepaths))]\n",
    "    test_lbls = lbls[int(val_prct*len(filepaths)):int(test_prct*len(filepaths))+int(val_prct*len(filepaths))]\n",
    "    train_lbls = lbls[int(test_prct*len(filepaths))+int(val_prct*len(filepaths)):]\n",
    "    return train_names, val_names, test_names, train_lbls, val_lbls, test_lbls # Remember that these are just filepaths"
   ]
  },
  {
   "cell_type": "code",
   "execution_count": 23,
   "metadata": {},
   "outputs": [],
   "source": [
    "train_names, val_names, test_names, train_lbls, val_lbls, test_lbls = split(fnames, clabels, 0.10, 0.20)"
   ]
  },
  {
   "cell_type": "code",
   "execution_count": 24,
   "metadata": {},
   "outputs": [],
   "source": [
    "# (5) use function (3) to create the .tfrecords\n",
    "train_path = \"/Users/jvincent/Documents/SCU/deepLearning/Respiratory_Sound_Database/Respiratory_Sound_Database/audio_tfrd/train.tfrecords\"\n",
    "val_path = \"/Users/jvincent/Documents/SCU/deepLearning/Respiratory_Sound_Database/Respiratory_Sound_Database/audio_tfrd/val.tfrecords\"\n",
    "test_path = \"/Users/jvincent/Documents/SCU/deepLearning/Respiratory_Sound_Database/Respiratory_Sound_Database/audio_tfrd/test.tfrecords\"\n",
    "\n",
    "createTFRD(train_path, train_names, train_lbls)\n",
    "createTFRD(val_path, val_names, val_lbls)\n",
    "createTFRD(test_path, test_names, test_lbls)"
   ]
  },
  {
   "cell_type": "code",
   "execution_count": 25,
   "metadata": {},
   "outputs": [],
   "source": [
    "#### Load tf data record files"
   ]
  },
  {
   "cell_type": "code",
   "execution_count": 26,
   "metadata": {},
   "outputs": [],
   "source": [
    "# (1) parser function/decoder function to read each individual audio sample and its respective label\n",
    "def parser(serialized_example):\n",
    "    f_sample = 44100\n",
    "    start = 2\n",
    "    end = 3\n",
    "    \n",
    "    features = {\"audio_raw\": tf.io.FixedLenFeature([], tf.string),\n",
    "                \"label\": tf.io.FixedLenFeature([], tf.int64)}\n",
    "    \n",
    "    tf_example = tf.io.parse_single_example(serialized_example, features)\n",
    "    \n",
    "    audio_raw = tf_example[\"audio_raw\"]\n",
    "    audio = tf.decode_raw(audio_raw, tf.float64, True) # first argument : dtype to write as, second argument : output type, third argument : little-endian\n",
    "    audio = tf.reshape(audio, ((end*f_sample) - (start*f_sample), 1)) # Reshape to original audio dimension\n",
    "    audio = tf.cast(audio, tf.float32) # Cast to float32 because that is the standard for machine learning\n",
    "    lbl = tf_example[\"label\"]\n",
    "    lbl = tf.cast(lbl, tf.int32)\n",
    "    return audio, lbl # Should I return a dictionary?"
   ]
  },
  {
   "cell_type": "code",
   "execution_count": 27,
   "metadata": {},
   "outputs": [],
   "source": [
    "# (2) read tf data record\n",
    "# The filenames argument to the TFRecordDataset initializer can either be a string, a list of strings, or a tf.Tensor of strings. Therefore if you have two sets of files for training and validation purposes, you can create a factory method that produces the dataset, taking filenames as an input argument:\n",
    "def loadTFRD(fnames, shuffle, batch_size):\n",
    "    ds = tf.data.TFRecordDataset(filenames = fnames)\n",
    "    ds = ds.map(parser) # applies the parser to a sample once it extracts it from the .tfrecords file\n",
    "    \n",
    "    if(shuffle):\n",
    "        ds = ds.shuffle(len(fnames)) # buffer_size = number of elements in the ds\n",
    "        # I could also do the shuffling step with the filename lists, but that won't be necessary if this works\n",
    "    ds = ds.batch(batch_size) # batch the dataset\n",
    "    ds = ds.make_one_shot_iterator()\n",
    "    \n",
    "    return ds"
   ]
  },
  {
   "cell_type": "code",
   "execution_count": 28,
   "metadata": {},
   "outputs": [
    {
     "name": "stderr",
     "output_type": "stream",
     "text": [
      "WARNING: Logging before flag parsing goes to stderr.\n",
      "W0226 20:44:35.080738 4643636672 deprecation.py:323] From <ipython-input-27-8cd66aec99f5>:11: DatasetV1.make_one_shot_iterator (from tensorflow.python.data.ops.dataset_ops) is deprecated and will be removed in a future version.\n",
      "Instructions for updating:\n",
      "Use `for ... in dataset:` to iterate over a dataset. If using `tf.estimator`, return the `Dataset` object directly from your input function. As a last resort, you can use `tf.compat.v1.data.make_one_shot_iterator(dataset)`.\n"
     ]
    }
   ],
   "source": [
    "batch_size = 1\n",
    "train_ds = loadTFRD(train_path, True, batch_size)\n",
    "val_ds = loadTFRD(val_path, True, batch_size)\n",
    "test_ds = loadTFRD(test_path, True, batch_size)"
   ]
  },
  {
   "cell_type": "code",
   "execution_count": 29,
   "metadata": {},
   "outputs": [],
   "source": [
    "audio_batch, lbl_batch = train_ds.get_next()"
   ]
  },
  {
   "cell_type": "code",
   "execution_count": 31,
   "metadata": {
    "scrolled": true
   },
   "outputs": [
    {
     "name": "stdout",
     "output_type": "stream",
     "text": [
      "(1, 44100, 1)\n"
     ]
    },
    {
     "data": {
      "image/png": "[encoded data removed]",
      "text/plain": [
       "<Figure size 432x288 with 1 Axes>"
      ]
     },
     "metadata": {
      "needs_background": "light"
     },
     "output_type": "display_data"
    }
   ],
   "source": [
    "# I have an odd input shape. I need to make sure that each sample is up to length prior to making the dataset.\n",
    "with tf.Session() as sess:\n",
    "    audio_form = sess.run(audio_batch)\n",
    "    lbl_form = sess.run(lbl_batch)\n",
    "    batch_num = 0\n",
    "    plt.plot(audio_form[batch_num])\n",
    "    plt.title(lbl_form[batch_num])\n",
    "    print(audio_form.shape)"
   ]
  },
  {
   "cell_type": "code",
   "execution_count": null,
   "metadata": {},
   "outputs": [],
   "source": []
  }
 ],
 "metadata": {
  "kernelspec": {
   "display_name": "Python 3",
   "language": "python",
   "name": "python3"
  },
  "language_info": {
   "codemirror_mode": {
    "name": "ipython",
    "version": 3
   },
   "file_extension": ".py",
   "mimetype": "text/x-python",
   "name": "python",
   "nbconvert_exporter": "python",
   "pygments_lexer": "ipython3",
   "version": "3.7.3"
  }
 },
 "nbformat": 4,
 "nbformat_minor": 2
}
