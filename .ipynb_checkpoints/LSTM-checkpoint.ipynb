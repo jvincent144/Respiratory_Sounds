{
 "cells": [
  {
   "cell_type": "code",
   "execution_count": null,
   "metadata": {},
   "outputs": [],
   "source": [
    "%load_ext autoreload\n",
    "%autoreload 2"
   ]
  },
  {
   "cell_type": "code",
   "execution_count": null,
   "metadata": {},
   "outputs": [],
   "source": [
    "import os"
   ]
  },
  {
   "cell_type": "code",
   "execution_count": null,
   "metadata": {},
   "outputs": [],
   "source": [
    "# Tutorial stuff\n",
    "from __future__ import absolute_import, division, print_function, unicode_literals"
   ]
  },
  {
   "cell_type": "code",
   "execution_count": null,
   "metadata": {},
   "outputs": [],
   "source": [
    "import numpy as np\n",
    "import tensorflow as tf\n",
    "import matplotlib.pyplot as plt"
   ]
  },
  {
   "cell_type": "code",
   "execution_count": null,
   "metadata": {},
   "outputs": [],
   "source": [
    "tf.__version__"
   ]
  },
  {
   "cell_type": "code",
   "execution_count": null,
   "metadata": {},
   "outputs": [],
   "source": [
    "import datasets\n",
    "from datasets import loadTFRD"
   ]
  },
  {
   "cell_type": "code",
   "execution_count": null,
   "metadata": {},
   "outputs": [],
   "source": [
    "# Enable premature calculations\n",
    "# Eager execution provides an imperative interface to TensorFlow.\n",
    "# With eager execution enabled, TensorFlow functions execute operations immediately\n",
    "# (as opposed to adding to a graph to be executed later in a tf.compat.v1.Session)\n",
    "# and return concrete values (as opposed to symbolic references to a node in a computational graph).\n",
    "tf.enable_eager_execution()"
   ]
  },
  {
   "cell_type": "code",
   "execution_count": null,
   "metadata": {},
   "outputs": [],
   "source": [
    "gpus = tf.config.experimental.list_physical_devices('GPU')\n",
    "print(\"GPU available : \" + str(tf.test.is_gpu_available()))\n",
    "print(\"Number of GPUS available : %d\" % len(gpus))"
   ]
  },
  {
   "cell_type": "code",
   "execution_count": null,
   "metadata": {},
   "outputs": [],
   "source": [
    "# See what device (GPU or CPU) tensorflow is using\n",
    "tf.debugging.set_log_device_placement(True)"
   ]
  },
  {
   "cell_type": "code",
   "execution_count": null,
   "metadata": {},
   "outputs": [],
   "source": [
    "# Test case\n",
    "a = tf.constant([[1.0, 2.0, 3.0],\n",
    "                 [4.0, 5.0, 6.0]])\n",
    "b = tf.constant([[1.0, 2.0],\n",
    "                 [3.0, 4.0],\n",
    "                 [5.0, 6.0]])"
   ]
  },
  {
   "cell_type": "code",
   "execution_count": null,
   "metadata": {},
   "outputs": [],
   "source": [
    "# Test case (cont.)\n",
    "c = tf.matmul(a, b)\n",
    "print(c)"
   ]
  },
  {
   "cell_type": "code",
   "execution_count": null,
   "metadata": {},
   "outputs": [],
   "source": [
    "# Need tensorflow-gpu to use gpus\n",
    "# pip uninstall tensorflow\n",
    "# pip install tensorflow-gpu"
   ]
  },
  {
   "cell_type": "code",
   "execution_count": null,
   "metadata": {},
   "outputs": [],
   "source": [
    "# dataset paths\n",
    "train_path = \"audio_tfrd/train.tfrecords\"\n",
    "val_path = \"audio_tfrd/val.tfrecords\"\n",
    "test_path = \"audio_tfrd/test.tfrecords\""
   ]
  },
  {
   "cell_type": "code",
   "execution_count": null,
   "metadata": {},
   "outputs": [],
   "source": [
    "# load datasets\n",
    "batch_size = 8\n",
    "train_ds = loadTFRD(train_path, True, batch_size)\n",
    "val_ds = loadTFRD(val_path, True, batch_size)\n",
    "test_ds = loadTFRD(test_path, True, batch_size)"
   ]
  },
  {
   "cell_type": "code",
   "execution_count": null,
   "metadata": {},
   "outputs": [],
   "source": [
    "f_sample = 44100\n",
    "\n",
    "batch_num = 0\n",
    "for audio, lbl in train_ds.take(1):\n",
    "    print(audio.shape)\n",
    "    plt.plot(audio.numpy()[batch_num])\n",
    "    plt.title(\"Label : %f\" % lbl[batch_num])"
   ]
  },
  {
   "cell_type": "code",
   "execution_count": null,
   "metadata": {},
   "outputs": [],
   "source": [
    "# Count elements in train_ds\n",
    "train_ct = 0\n",
    "for audio, lbl in  train_ds:\n",
    "    train_ct += 1\n",
    "print(train_ct)"
   ]
  },
  {
   "cell_type": "code",
   "execution_count": null,
   "metadata": {},
   "outputs": [],
   "source": [
    "val_ct = 0\n",
    "for audio, lbl in  val_ds:\n",
    "    val_ct += 1\n",
    "print(val_ct)"
   ]
  },
  {
   "cell_type": "code",
   "execution_count": null,
   "metadata": {},
   "outputs": [],
   "source": [
    "test_ct = 0\n",
    "for audio, lbl in  test_ds:\n",
    "    test_ct += 1\n",
    "print(test_ct)"
   ]
  },
  {
   "cell_type": "code",
   "execution_count": null,
   "metadata": {},
   "outputs": [],
   "source": [
    "# train_ct = 578\n",
    "# val_ct = 82\n",
    "# test_ct = 164"
   ]
  },
  {
   "cell_type": "code",
   "execution_count": null,
   "metadata": {},
   "outputs": [],
   "source": [
    "# Make repeatable datasets for training, so we can iterate over them as many times as we please\n",
    "train_ds = train_ds.repeat(None)\n",
    "val_ds = val_ds.repeat(None)\n",
    "test_ds = test_ds.repeat(None)"
   ]
  },
  {
   "cell_type": "code",
   "execution_count": null,
   "metadata": {},
   "outputs": [],
   "source": [
    "####\n",
    "# Simple LSTM model\n",
    "# Class definition : https://www.tensorflow.org/api_docs/python/tf/keras/layers/LSTM\n",
    "# Tutorial : https://www.tensorflow.org/tutorials/structured_data/time_series"
   ]
  },
  {
   "cell_type": "code",
   "execution_count": null,
   "metadata": {},
   "outputs": [],
   "source": [
    "####\n",
    "# Build a model class\n",
    "\n",
    "class LSTM(tf.keras.Model):\n",
    "    \n",
    "    def __init__(self):\n",
    "        super(LSTM, self).__init__()\n",
    "        self.LSTM = tf.keras.layers.LSTM(8, input_shape = (44100, 1)) # Argument 1 : number of output features\n",
    "        # Argument 2 : input_shape = # time points\n",
    "        # input_shape is necessary for automatic shape inference\n",
    "        self.dense = tf.keras.layers.Dense(8) # Argument 1 : number of output classes\n",
    "        \n",
    "    def call(self, data):\n",
    "        data = self.LSTM(data)\n",
    "        data = self.dense(data)\n",
    "        data = tf.nn.softmax(data, axis = 1)\n",
    "        return data"
   ]
  },
  {
   "cell_type": "code",
   "execution_count": null,
   "metadata": {},
   "outputs": [],
   "source": [
    "model = LSTM()"
   ]
  },
  {
   "cell_type": "code",
   "execution_count": null,
   "metadata": {},
   "outputs": [],
   "source": [
    "model.compile(optimizer = \"adam\", loss = \"categorical_crossentropy\", metrics = [\"accuracy\"])"
   ]
  },
  {
   "cell_type": "code",
   "execution_count": null,
   "metadata": {},
   "outputs": [],
   "source": [
    "log_dir = \"./runs\"\n",
    "tensorboard_callback = tf.keras.callbacks.TensorBoard(log_dir=log_dir)"
   ]
  },
  {
   "cell_type": "code",
   "execution_count": null,
   "metadata": {
    "scrolled": true
   },
   "outputs": [],
   "source": [
    "cp_path = \"training_2/cp-{epoch:04d}.h5py\"\n",
    "cp_dir = os.path.dirname(cp_path)\n",
    "\n",
    "# Create a callback that saves the model's weights\n",
    "cp_callback = tf.keras.callbacks.ModelCheckpoint(filepath = cp_path,\n",
    "                                                 verbose = 1,\n",
    "                                                 save_weights_only = True,\n",
    "                                                 period = 1)"
   ]
  },
  {
   "cell_type": "code",
   "execution_count": null,
   "metadata": {
    "scrolled": false
   },
   "outputs": [],
   "source": [
    "print(\"Initiating Training.\")\n",
    "model.save_weights(cp_path.format(epoch = 0)) # Save initial model weights\n",
    "model.fit(train_ds, epochs = 10, validation_data = val_ds, steps_per_epoch = train_ct, validation_steps = val_ct, shuffle = True, callbacks = [cp_callback, tensorboard_callback])\n",
    "print(\"Finished Training.\")"
   ]
  },
  {
   "cell_type": "code",
   "execution_count": null,
   "metadata": {},
   "outputs": [],
   "source": [
    "####\n",
    "# Load model\n",
    "model_reloaded = LSTM()"
   ]
  },
  {
   "cell_type": "code",
   "execution_count": null,
   "metadata": {},
   "outputs": [],
   "source": [
    "model_reloaded.load_weights(\"./training_2/.h5py\")"
   ]
  },
  {
   "cell_type": "code",
   "execution_count": null,
   "metadata": {},
   "outputs": [],
   "source": [
    "####\n",
    "# Evaluate the model\n",
    "model.evaluate(test_ds, steps = test_ct)"
   ]
  },
  {
   "cell_type": "code",
   "execution_count": null,
   "metadata": {},
   "outputs": [],
   "source": []
  }
 ],
 "metadata": {
  "kernelspec": {
   "display_name": "Python 3",
   "language": "python",
   "name": "python3"
  },
  "language_info": {
   "codemirror_mode": {
    "name": "ipython",
    "version": 3
   },
   "file_extension": ".py",
   "mimetype": "text/x-python",
   "name": "python",
   "nbconvert_exporter": "python",
   "pygments_lexer": "ipython3",
   "version": "3.7.3"
  }
 },
 "nbformat": 4,
 "nbformat_minor": 2
}
